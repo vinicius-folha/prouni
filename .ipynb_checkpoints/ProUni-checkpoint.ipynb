{
 "cells": [
  {
   "cell_type": "code",
   "execution_count": 2,
   "id": "f23dccfa",
   "metadata": {},
   "outputs": [],
   "source": [
    "#import pyspark\n",
    "from pyspark.conf import SparkConf\n",
    "from pyspark.context import SparkContext\n",
    "conf = SparkConf()\n",
    "conf.setMaster(\"local\").setAppName(\"ProUni\")\n",
    "sc = SparkContext(conf=conf)\n",
    "sc = SparkContext.getOrCreate()\n",
    "#sc = pyspark.SparkContext('local[*]')"
   ]
  },
  {
   "cell_type": "code",
   "execution_count": 3,
   "id": "5bee2bab",
   "metadata": {},
   "outputs": [],
   "source": [
    "from pyspark.sql import SQLContext\n",
    "sqlContext = SQLContext(sc)\n",
    "\n"
   ]
  },
  {
   "cell_type": "code",
   "execution_count": 4,
   "id": "a59d3b0a",
   "metadata": {},
   "outputs": [
    {
     "name": "stdout",
     "output_type": "stream",
     "text": [
      "root\n",
      " |-- ANO_CONCESSAO_BOLSA: string (nullable = true)\n",
      " |-- CODIGO_EMEC_IES_BOLSA: string (nullable = true)\n",
      " |-- NOME_IES_BOLSA: string (nullable = true)\n",
      " |-- TIPO_BOLSA: string (nullable = true)\n",
      " |-- MODALIDADE_ENSINO_BOLSA: string (nullable = true)\n",
      " |-- NOME_CURSO_BOLSA: string (nullable = true)\n",
      " |-- NOME_TURNO_CURSO_BOLSA: string (nullable = true)\n",
      " |-- CPF_BENEFICIARIO_BOLSA: string (nullable = true)\n",
      " |-- SEXO_BENEFICIARIO_BOLSA: string (nullable = true)\n",
      " |-- RACA_BENEFICIARIO_BOLSA: string (nullable = true)\n",
      " |-- DT_NASCIMENTO_BENEFICIARIO: string (nullable = true)\n",
      " |-- BENEFICIARIO_DEFICIENTE_FISICO: string (nullable = true)\n",
      " |-- REGIAO_BENEFICIARIO_BOLSA: string (nullable = true)\n",
      " |-- SIGLA_UF_BENEFICIARIO_BOLSA: string (nullable = true)\n",
      " |-- MUNICIPIO_BENEFICIARIO_BOLSA: string (nullable = true)\n",
      "\n"
     ]
    }
   ],
   "source": [
    "df = sqlContext.read.format(\"csv\").option(\"header\", \"true\").option(\"delimiter\", \";\").load(\"./inputData/*.csv\") \n",
    "df.printSchema()\n"
   ]
  },
  {
   "cell_type": "code",
   "execution_count": 6,
   "id": "ebb3823f",
   "metadata": {},
   "outputs": [
    {
     "name": "stdout",
     "output_type": "stream",
     "text": [
      "+-------------------+---------------------+--------------------+-----------------+-----------------------+----------------+----------------------+----------------------+-----------------------+-----------------------+--------------------------+------------------------------+-------------------------+---------------------------+----------------------------+\n",
      "|ANO_CONCESSAO_BOLSA|CODIGO_EMEC_IES_BOLSA|      NOME_IES_BOLSA|       TIPO_BOLSA|MODALIDADE_ENSINO_BOLSA|NOME_CURSO_BOLSA|NOME_TURNO_CURSO_BOLSA|CPF_BENEFICIARIO_BOLSA|SEXO_BENEFICIARIO_BOLSA|RACA_BENEFICIARIO_BOLSA|DT_NASCIMENTO_BENEFICIARIO|BENEFICIARIO_DEFICIENTE_FISICO|REGIAO_BENEFICIARIO_BOLSA|SIGLA_UF_BENEFICIARIO_BOLSA|MUNICIPIO_BENEFICIARIO_BOLSA|\n",
      "+-------------------+---------------------+--------------------+-----------------+-----------------------+----------------+----------------------+----------------------+-----------------------+-----------------------+--------------------------+------------------------------+-------------------------+---------------------------+----------------------------+\n",
      "|               2016|                   20|UNIVERSIDADE DE P...|BOLSA PARCIAL 50%|             PRESENCIAL|   Administra��o|               Noturno|           ***847010**|               Feminino|                 Branca|                06-12-1995|                           N�O|                      SUL|                         RS|                    SOLEDADE|\n",
      "+-------------------+---------------------+--------------------+-----------------+-----------------------+----------------+----------------------+----------------------+-----------------------+-----------------------+--------------------------+------------------------------+-------------------------+---------------------------+----------------------------+\n",
      "only showing top 1 row\n",
      "\n"
     ]
    }
   ],
   "source": [
    "df.show(1)"
   ]
  },
  {
   "cell_type": "code",
   "execution_count": 7,
   "id": "e3b2c844",
   "metadata": {},
   "outputs": [
    {
     "ename": "NameError",
     "evalue": "name 'spark' is not defined",
     "output_type": "error",
     "traceback": [
      "\u001b[0;31m---------------------------------------------------------------------------\u001b[0m",
      "\u001b[0;31mNameError\u001b[0m                                 Traceback (most recent call last)",
      "\u001b[0;32m<ipython-input-7-390ef69cf3cc>\u001b[0m in \u001b[0;36m<module>\u001b[0;34m\u001b[0m\n\u001b[1;32m     26\u001b[0m ])\n\u001b[1;32m     27\u001b[0m \u001b[0;34m\u001b[0m\u001b[0m\n\u001b[0;32m---> 28\u001b[0;31m \u001b[0mspark\u001b[0m\u001b[0;34m.\u001b[0m\u001b[0msql\u001b[0m\u001b[0;34m(\u001b[0m\u001b[0;34m\"CREATE DATABASE prouni\"\u001b[0m\u001b[0;34m)\u001b[0m\u001b[0;34m\u001b[0m\u001b[0;34m\u001b[0m\u001b[0m\n\u001b[0m\u001b[1;32m     29\u001b[0m \u001b[0mspark\u001b[0m\u001b[0;34m.\u001b[0m\u001b[0msql\u001b[0m\u001b[0;34m(\u001b[0m\u001b[0;34m\"USE prouni\"\u001b[0m\u001b[0;34m)\u001b[0m\u001b[0;34m\u001b[0m\u001b[0;34m\u001b[0m\u001b[0m\n\u001b[1;32m     30\u001b[0m \u001b[0;34m\u001b[0m\u001b[0m\n",
      "\u001b[0;31mNameError\u001b[0m: name 'spark' is not defined"
     ]
    }
   ],
   "source": [
    "#from pyspark.sql import SparkSession\n",
    "from pyspark.sql.types import StructType, StructField\n",
    "from pyspark.sql.types import DoubleType, IntegerType, StringType, DateType\n",
    "\n",
    "schema = StructType([\n",
    "    StructField(\"ANO_CONCESSAO_BOLSA\", IntegerType()),\n",
    "    StructField(\"CODIGO_EMEC_IES_BOLSA\", IntegerType()),\n",
    "    StructField(\"NOME_IES_BOLSA\", StringType()),\n",
    "    StructField(\"TIPO_BOLSA\", StringType()),\n",
    "    StructField(\"MODALIDADE_ENSINO_BOLSA\", StringType()),\n",
    "    StructField(\"NOME_CURSO_BOLSA\", StringType()),\n",
    "    StructField(\"NOME_TURNO_CURSO_BOLSA\", StringType()),\n",
    "    StructField(\"CPF_BENEFICIARIO_BOLSA\", StringType()),\n",
    "    StructField(\"SEXO_BENEFICIARIO_BOLSA\", StringType()),\n",
    "    StructField(\"RACA_BENEFICIARIO_BOLSA\", StringType()),\n",
    "    \n",
    "    StructField(\"DT_NASCIMENTO_BENEFICIARIO\", DateType()),\n",
    "    StructField(\"BENEFICIARIO_DEFICIENTE_FISICO\", StringType()),\n",
    "    StructField(\"REGIAO_BENEFICIARIO_BOLSA\", StringType()),\n",
    "    StructField(\"SIGLA_UF_BENEFICIARIO_BOLSA\", StringType()),\n",
    "    StructField(\"MUNICIPIO_BENEFICIARIO_BOLSA\", StringType()),\n",
    "])\n",
    "\n",
    "spark.sql(\"CREATE DATABASE prouni\")\n",
    "spark.sql(\"USE prouni\")\n",
    "\n",
    "\n",
    "# In Python\n",
    "csv_file = \"./inputData/*.csv\"\n",
    "# Schema as defined in the preceding example\n",
    "schema=\"date STRING, delay INT, distance INT, origin STRING, destination STRING\"\n",
    "flights_df = spark.read.csv(csv_file, schema=schema)\n",
    "flights_df.write.saveAsTable(\"managed_us_delay_flights_tbl\")"
   ]
  }
 ],
 "metadata": {
  "kernelspec": {
   "display_name": "Python 3",
   "language": "python",
   "name": "python3"
  },
  "language_info": {
   "codemirror_mode": {
    "name": "ipython",
    "version": 3
   },
   "file_extension": ".py",
   "mimetype": "text/x-python",
   "name": "python",
   "nbconvert_exporter": "python",
   "pygments_lexer": "ipython3",
   "version": "3.8.5"
  }
 },
 "nbformat": 4,
 "nbformat_minor": 5
}
